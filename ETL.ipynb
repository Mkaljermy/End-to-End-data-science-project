{
 "cells": [
  {
   "cell_type": "code",
   "execution_count": 235,
   "id": "9e15061c-dbbd-4298-9dcd-231d51454e1c",
   "metadata": {},
   "outputs": [],
   "source": [
    "import pandas as pd\n",
    "import numpy as np\n",
    "from sqlalchemy import create_engine"
   ]
  },
  {
   "cell_type": "code",
   "execution_count": 375,
   "id": "6eb4ea9e-02d3-4d04-aeef-39e0f447c0a4",
   "metadata": {},
   "outputs": [],
   "source": [
    "data = pd.read_csv(\"car_data.csv\")"
   ]
  },
  {
   "cell_type": "code",
   "execution_count": 376,
   "id": "9b12b900-af8b-4706-bd11-b96f589f5848",
   "metadata": {},
   "outputs": [
    {
     "data": {
      "text/html": [
       "<div>\n",
       "<style scoped>\n",
       "    .dataframe tbody tr th:only-of-type {\n",
       "        vertical-align: middle;\n",
       "    }\n",
       "\n",
       "    .dataframe tbody tr th {\n",
       "        vertical-align: top;\n",
       "    }\n",
       "\n",
       "    .dataframe thead th {\n",
       "        text-align: right;\n",
       "    }\n",
       "</style>\n",
       "<table border=\"1\" class=\"dataframe\">\n",
       "  <thead>\n",
       "    <tr style=\"text-align: right;\">\n",
       "      <th></th>\n",
       "      <th>Car_id;Date;Customer Name;Gender;Annual Income;Dealer_Name;Company;Model;Engine;Transmission;Color;Price ($);Dealer_No ;Body Style;Phone;Dealer_Region</th>\n",
       "    </tr>\n",
       "  </thead>\n",
       "  <tbody>\n",
       "    <tr>\n",
       "      <th>0</th>\n",
       "      <td>C_CND_000001;01/02/2022;Geraldine;Male;13500;B...</td>\n",
       "    </tr>\n",
       "    <tr>\n",
       "      <th>1</th>\n",
       "      <td>C_CND_000002;01/02/2022;Gia;Male;1480000;C &amp; M...</td>\n",
       "    </tr>\n",
       "    <tr>\n",
       "      <th>2</th>\n",
       "      <td>C_CND_000003;01/02/2022;Gianna;Male;1035000;Ca...</td>\n",
       "    </tr>\n",
       "    <tr>\n",
       "      <th>3</th>\n",
       "      <td>C_CND_000004;01/02/2022;Giselle;Male;13500;Chr...</td>\n",
       "    </tr>\n",
       "    <tr>\n",
       "      <th>4</th>\n",
       "      <td>C_CND_000005;01/02/2022;Grace;Male;1465000;Chr...</td>\n",
       "    </tr>\n",
       "    <tr>\n",
       "      <th>...</th>\n",
       "      <td>...</td>\n",
       "    </tr>\n",
       "    <tr>\n",
       "      <th>23901</th>\n",
       "      <td>C_CND_023902;12/31/2023;Martin;Male;13500;C &amp; ...</td>\n",
       "    </tr>\n",
       "    <tr>\n",
       "      <th>23902</th>\n",
       "      <td>C_CND_023903;12/31/2023;Jimmy;Female;900000;Ry...</td>\n",
       "    </tr>\n",
       "    <tr>\n",
       "      <th>23903</th>\n",
       "      <td>C_CND_023904;12/31/2023;Emma;Male;705000;Chrys...</td>\n",
       "    </tr>\n",
       "    <tr>\n",
       "      <th>23904</th>\n",
       "      <td>C_CND_023905;12/31/2023;Victoire;Male;13500;Ch...</td>\n",
       "    </tr>\n",
       "    <tr>\n",
       "      <th>23905</th>\n",
       "      <td>C_CND_023906;12/31/2023;Donovan;Male;1225000;P...</td>\n",
       "    </tr>\n",
       "  </tbody>\n",
       "</table>\n",
       "<p>23906 rows × 1 columns</p>\n",
       "</div>"
      ],
      "text/plain": [
       "      Car_id;Date;Customer Name;Gender;Annual Income;Dealer_Name;Company;Model;Engine;Transmission;Color;Price ($);Dealer_No ;Body Style;Phone;Dealer_Region\n",
       "0      C_CND_000001;01/02/2022;Geraldine;Male;13500;B...                                                                                                    \n",
       "1      C_CND_000002;01/02/2022;Gia;Male;1480000;C & M...                                                                                                    \n",
       "2      C_CND_000003;01/02/2022;Gianna;Male;1035000;Ca...                                                                                                    \n",
       "3      C_CND_000004;01/02/2022;Giselle;Male;13500;Chr...                                                                                                    \n",
       "4      C_CND_000005;01/02/2022;Grace;Male;1465000;Chr...                                                                                                    \n",
       "...                                                  ...                                                                                                    \n",
       "23901  C_CND_023902;12/31/2023;Martin;Male;13500;C & ...                                                                                                    \n",
       "23902  C_CND_023903;12/31/2023;Jimmy;Female;900000;Ry...                                                                                                    \n",
       "23903  C_CND_023904;12/31/2023;Emma;Male;705000;Chrys...                                                                                                    \n",
       "23904  C_CND_023905;12/31/2023;Victoire;Male;13500;Ch...                                                                                                    \n",
       "23905  C_CND_023906;12/31/2023;Donovan;Male;1225000;P...                                                                                                    \n",
       "\n",
       "[23906 rows x 1 columns]"
      ]
     },
     "execution_count": 376,
     "metadata": {},
     "output_type": "execute_result"
    }
   ],
   "source": [
    "data"
   ]
  },
  {
   "cell_type": "code",
   "execution_count": 377,
   "id": "c0e86d2d-ea97-401f-9a51-df1ff55d39c5",
   "metadata": {},
   "outputs": [
    {
     "data": {
      "text/plain": [
       "Index(['Car_id;Date;Customer Name;Gender;Annual Income;Dealer_Name;Company;Model;Engine;Transmission;Color;Price ($);Dealer_No ;Body Style;Phone;Dealer_Region'], dtype='object')"
      ]
     },
     "execution_count": 377,
     "metadata": {},
     "output_type": "execute_result"
    }
   ],
   "source": [
    "data.columns"
   ]
  },
  {
   "cell_type": "code",
   "execution_count": 378,
   "id": "51079569-4de4-45d1-8918-8c96a535ac42",
   "metadata": {},
   "outputs": [],
   "source": [
    "data = data['Car_id;Date;Customer Name;Gender;Annual Income;Dealer_Name;Company;Model;Engine;Transmission;Color;Price ($);Dealer_No ;Body Style;Phone;Dealer_Region'].str.split(';', expand=True)"
   ]
  },
  {
   "cell_type": "code",
   "execution_count": 379,
   "id": "98391863-c095-4a8e-8980-0dffaf7ac23a",
   "metadata": {},
   "outputs": [],
   "source": [
    "data = data.rename(columns={0: 'Car_id', 1:'Date', 2:'Customer_Name', 3:'Gender', 4:'Annual_Income', 5:'Dealer_Name',\n",
    "                            6:'Company', 7:'Model', 8:'Engine', 9:'Transmission', 10:'Color', 11:'Price($)', 12:'Dealer_No',\n",
    "                            13:'Body_Style', 14:'Phone', 15:'Dealer_Region'})"
   ]
  },
  {
   "cell_type": "code",
   "execution_count": 380,
   "id": "81fdb2b5-4bac-48e0-8ec4-10e139c6540c",
   "metadata": {},
   "outputs": [
    {
     "data": {
      "text/html": [
       "<div>\n",
       "<style scoped>\n",
       "    .dataframe tbody tr th:only-of-type {\n",
       "        vertical-align: middle;\n",
       "    }\n",
       "\n",
       "    .dataframe tbody tr th {\n",
       "        vertical-align: top;\n",
       "    }\n",
       "\n",
       "    .dataframe thead th {\n",
       "        text-align: right;\n",
       "    }\n",
       "</style>\n",
       "<table border=\"1\" class=\"dataframe\">\n",
       "  <thead>\n",
       "    <tr style=\"text-align: right;\">\n",
       "      <th></th>\n",
       "      <th>Car_id</th>\n",
       "      <th>Date</th>\n",
       "      <th>Customer_Name</th>\n",
       "      <th>Gender</th>\n",
       "      <th>Annual_Income</th>\n",
       "      <th>Dealer_Name</th>\n",
       "      <th>Company</th>\n",
       "      <th>Model</th>\n",
       "      <th>Engine</th>\n",
       "      <th>Transmission</th>\n",
       "      <th>Color</th>\n",
       "      <th>Price($)</th>\n",
       "      <th>Dealer_No</th>\n",
       "      <th>Body_Style</th>\n",
       "      <th>Phone</th>\n",
       "      <th>Dealer_Region</th>\n",
       "    </tr>\n",
       "  </thead>\n",
       "  <tbody>\n",
       "    <tr>\n",
       "      <th>0</th>\n",
       "      <td>C_CND_000001</td>\n",
       "      <td>01/02/2022</td>\n",
       "      <td>Geraldine</td>\n",
       "      <td>Male</td>\n",
       "      <td>13500</td>\n",
       "      <td>Buddy Storbeck's Diesel Service Inc</td>\n",
       "      <td>Ford</td>\n",
       "      <td>Expedition</td>\n",
       "      <td>DoubleÃ‚Â Overhead Camshaft</td>\n",
       "      <td>Auto</td>\n",
       "      <td>Black</td>\n",
       "      <td>26000</td>\n",
       "      <td>06457-3834</td>\n",
       "      <td>SUV</td>\n",
       "      <td>8264678</td>\n",
       "      <td>Middletown</td>\n",
       "    </tr>\n",
       "    <tr>\n",
       "      <th>1</th>\n",
       "      <td>C_CND_000002</td>\n",
       "      <td>01/02/2022</td>\n",
       "      <td>Gia</td>\n",
       "      <td>Male</td>\n",
       "      <td>1480000</td>\n",
       "      <td>C &amp; M Motors Inc</td>\n",
       "      <td>Dodge</td>\n",
       "      <td>Durango</td>\n",
       "      <td>DoubleÃ‚Â Overhead Camshaft</td>\n",
       "      <td>Auto</td>\n",
       "      <td>Black</td>\n",
       "      <td>19000</td>\n",
       "      <td>60504-7114</td>\n",
       "      <td>SUV</td>\n",
       "      <td>6848189</td>\n",
       "      <td>Aurora</td>\n",
       "    </tr>\n",
       "    <tr>\n",
       "      <th>2</th>\n",
       "      <td>C_CND_000003</td>\n",
       "      <td>01/02/2022</td>\n",
       "      <td>Gianna</td>\n",
       "      <td>Male</td>\n",
       "      <td>1035000</td>\n",
       "      <td>Capitol KIA</td>\n",
       "      <td>Cadillac</td>\n",
       "      <td>Eldorado</td>\n",
       "      <td>Overhead Camshaft</td>\n",
       "      <td>Manual</td>\n",
       "      <td>Red</td>\n",
       "      <td>31500</td>\n",
       "      <td>38701-8047</td>\n",
       "      <td>Passenger</td>\n",
       "      <td>7298798</td>\n",
       "      <td>Greenville</td>\n",
       "    </tr>\n",
       "    <tr>\n",
       "      <th>3</th>\n",
       "      <td>C_CND_000004</td>\n",
       "      <td>01/02/2022</td>\n",
       "      <td>Giselle</td>\n",
       "      <td>Male</td>\n",
       "      <td>13500</td>\n",
       "      <td>Chrysler of Tri-Cities</td>\n",
       "      <td>Toyota</td>\n",
       "      <td>Celica</td>\n",
       "      <td>Overhead Camshaft</td>\n",
       "      <td>Manual</td>\n",
       "      <td>Pale White</td>\n",
       "      <td>14000</td>\n",
       "      <td>99301-3882</td>\n",
       "      <td>SUV</td>\n",
       "      <td>6257557</td>\n",
       "      <td>Pasco</td>\n",
       "    </tr>\n",
       "    <tr>\n",
       "      <th>4</th>\n",
       "      <td>C_CND_000005</td>\n",
       "      <td>01/02/2022</td>\n",
       "      <td>Grace</td>\n",
       "      <td>Male</td>\n",
       "      <td>1465000</td>\n",
       "      <td>Chrysler Plymouth</td>\n",
       "      <td>Acura</td>\n",
       "      <td>TL</td>\n",
       "      <td>DoubleÃ‚Â Overhead Camshaft</td>\n",
       "      <td>Auto</td>\n",
       "      <td>Red</td>\n",
       "      <td>24500</td>\n",
       "      <td>53546-9427</td>\n",
       "      <td>Hatchback</td>\n",
       "      <td>7081483</td>\n",
       "      <td>Janesville</td>\n",
       "    </tr>\n",
       "  </tbody>\n",
       "</table>\n",
       "</div>"
      ],
      "text/plain": [
       "         Car_id        Date Customer_Name Gender Annual_Income   \n",
       "0  C_CND_000001  01/02/2022     Geraldine   Male         13500  \\\n",
       "1  C_CND_000002  01/02/2022           Gia   Male       1480000   \n",
       "2  C_CND_000003  01/02/2022        Gianna   Male       1035000   \n",
       "3  C_CND_000004  01/02/2022       Giselle   Male         13500   \n",
       "4  C_CND_000005  01/02/2022         Grace   Male       1465000   \n",
       "\n",
       "                           Dealer_Name   Company       Model   \n",
       "0  Buddy Storbeck's Diesel Service Inc      Ford  Expedition  \\\n",
       "1                     C & M Motors Inc     Dodge     Durango   \n",
       "2                          Capitol KIA  Cadillac    Eldorado   \n",
       "3               Chrysler of Tri-Cities    Toyota      Celica   \n",
       "4                    Chrysler Plymouth     Acura          TL   \n",
       "\n",
       "                        Engine Transmission       Color Price($)   Dealer_No   \n",
       "0  DoubleÃ‚Â Overhead Camshaft         Auto       Black    26000  06457-3834  \\\n",
       "1  DoubleÃ‚Â Overhead Camshaft         Auto       Black    19000  60504-7114   \n",
       "2            Overhead Camshaft       Manual         Red    31500  38701-8047   \n",
       "3            Overhead Camshaft       Manual  Pale White    14000  99301-3882   \n",
       "4  DoubleÃ‚Â Overhead Camshaft         Auto         Red    24500  53546-9427   \n",
       "\n",
       "  Body_Style    Phone Dealer_Region  \n",
       "0        SUV  8264678    Middletown  \n",
       "1        SUV  6848189        Aurora  \n",
       "2  Passenger  7298798    Greenville  \n",
       "3        SUV  6257557         Pasco  \n",
       "4  Hatchback  7081483    Janesville  "
      ]
     },
     "execution_count": 380,
     "metadata": {},
     "output_type": "execute_result"
    }
   ],
   "source": [
    "data.head()"
   ]
  },
  {
   "cell_type": "code",
   "execution_count": 381,
   "id": "38b52daf-0f27-4eff-a738-918b1968ad3b",
   "metadata": {},
   "outputs": [],
   "source": [
    "data.dropna(inplace = True)"
   ]
  },
  {
   "cell_type": "code",
   "execution_count": 382,
   "id": "6809383c-afcb-4a08-b69c-30ffbdcd1953",
   "metadata": {},
   "outputs": [],
   "source": [
    "data.drop_duplicates(inplace = True)"
   ]
  },
  {
   "cell_type": "code",
   "execution_count": 383,
   "id": "7a9b0eab-2d19-4827-a677-2ac0e31dd0f5",
   "metadata": {},
   "outputs": [],
   "source": [
    "data.drop('Car_id', axis= 1, inplace = True)\t\t\t\t"
   ]
  },
  {
   "cell_type": "code",
   "execution_count": 384,
   "id": "1e323c13-a656-4ef1-a102-7a19e815c38f",
   "metadata": {},
   "outputs": [
    {
     "name": "stdout",
     "output_type": "stream",
     "text": [
      "<class 'pandas.core.frame.DataFrame'>\n",
      "RangeIndex: 23906 entries, 0 to 23905\n",
      "Data columns (total 15 columns):\n",
      " #   Column         Non-Null Count  Dtype \n",
      "---  ------         --------------  ----- \n",
      " 0   Date           23906 non-null  object\n",
      " 1   Customer_Name  23906 non-null  object\n",
      " 2   Gender         23906 non-null  object\n",
      " 3   Annual_Income  23906 non-null  object\n",
      " 4   Dealer_Name    23906 non-null  object\n",
      " 5   Company        23906 non-null  object\n",
      " 6   Model          23906 non-null  object\n",
      " 7   Engine         23906 non-null  object\n",
      " 8   Transmission   23906 non-null  object\n",
      " 9   Color          23906 non-null  object\n",
      " 10  Price($)       23906 non-null  object\n",
      " 11  Dealer_No      23906 non-null  object\n",
      " 12  Body_Style     23906 non-null  object\n",
      " 13  Phone          23906 non-null  object\n",
      " 14  Dealer_Region  23906 non-null  object\n",
      "dtypes: object(15)\n",
      "memory usage: 2.7+ MB\n"
     ]
    }
   ],
   "source": [
    "data.info()"
   ]
  },
  {
   "cell_type": "code",
   "execution_count": 385,
   "id": "08efb555-3cb1-436f-a9cc-2cbae2dcd9a2",
   "metadata": {},
   "outputs": [
    {
     "data": {
      "text/plain": [
       "Index(['Date', 'Customer_Name', 'Gender', 'Annual_Income', 'Dealer_Name',\n",
       "       'Company', 'Model', 'Engine', 'Transmission', 'Color', 'Price($)',\n",
       "       'Dealer_No', 'Body_Style', 'Phone', 'Dealer_Region'],\n",
       "      dtype='object')"
      ]
     },
     "execution_count": 385,
     "metadata": {},
     "output_type": "execute_result"
    }
   ],
   "source": [
    "data.columns"
   ]
  },
  {
   "cell_type": "code",
   "execution_count": 386,
   "id": "915d33f4-f184-46dd-a317-17e2adb8559f",
   "metadata": {},
   "outputs": [
    {
     "data": {
      "text/html": [
       "<div>\n",
       "<style scoped>\n",
       "    .dataframe tbody tr th:only-of-type {\n",
       "        vertical-align: middle;\n",
       "    }\n",
       "\n",
       "    .dataframe tbody tr th {\n",
       "        vertical-align: top;\n",
       "    }\n",
       "\n",
       "    .dataframe thead th {\n",
       "        text-align: right;\n",
       "    }\n",
       "</style>\n",
       "<table border=\"1\" class=\"dataframe\">\n",
       "  <thead>\n",
       "    <tr style=\"text-align: right;\">\n",
       "      <th></th>\n",
       "      <th>Date</th>\n",
       "      <th>Customer_Name</th>\n",
       "      <th>Gender</th>\n",
       "      <th>Annual_Income</th>\n",
       "      <th>Dealer_Name</th>\n",
       "      <th>Company</th>\n",
       "      <th>Model</th>\n",
       "      <th>Engine</th>\n",
       "      <th>Transmission</th>\n",
       "      <th>Color</th>\n",
       "      <th>Price($)</th>\n",
       "      <th>Dealer_No</th>\n",
       "      <th>Body_Style</th>\n",
       "      <th>Phone</th>\n",
       "      <th>Dealer_Region</th>\n",
       "    </tr>\n",
       "  </thead>\n",
       "  <tbody>\n",
       "    <tr>\n",
       "      <th>0</th>\n",
       "      <td>01/02/2022</td>\n",
       "      <td>Geraldine</td>\n",
       "      <td>Male</td>\n",
       "      <td>13500</td>\n",
       "      <td>Buddy Storbeck's Diesel Service Inc</td>\n",
       "      <td>Ford</td>\n",
       "      <td>Expedition</td>\n",
       "      <td>DoubleÃ‚Â Overhead Camshaft</td>\n",
       "      <td>Auto</td>\n",
       "      <td>Black</td>\n",
       "      <td>26000</td>\n",
       "      <td>06457-3834</td>\n",
       "      <td>SUV</td>\n",
       "      <td>8264678</td>\n",
       "      <td>Middletown</td>\n",
       "    </tr>\n",
       "    <tr>\n",
       "      <th>1</th>\n",
       "      <td>01/02/2022</td>\n",
       "      <td>Gia</td>\n",
       "      <td>Male</td>\n",
       "      <td>1480000</td>\n",
       "      <td>C &amp; M Motors Inc</td>\n",
       "      <td>Dodge</td>\n",
       "      <td>Durango</td>\n",
       "      <td>DoubleÃ‚Â Overhead Camshaft</td>\n",
       "      <td>Auto</td>\n",
       "      <td>Black</td>\n",
       "      <td>19000</td>\n",
       "      <td>60504-7114</td>\n",
       "      <td>SUV</td>\n",
       "      <td>6848189</td>\n",
       "      <td>Aurora</td>\n",
       "    </tr>\n",
       "    <tr>\n",
       "      <th>2</th>\n",
       "      <td>01/02/2022</td>\n",
       "      <td>Gianna</td>\n",
       "      <td>Male</td>\n",
       "      <td>1035000</td>\n",
       "      <td>Capitol KIA</td>\n",
       "      <td>Cadillac</td>\n",
       "      <td>Eldorado</td>\n",
       "      <td>Overhead Camshaft</td>\n",
       "      <td>Manual</td>\n",
       "      <td>Red</td>\n",
       "      <td>31500</td>\n",
       "      <td>38701-8047</td>\n",
       "      <td>Passenger</td>\n",
       "      <td>7298798</td>\n",
       "      <td>Greenville</td>\n",
       "    </tr>\n",
       "    <tr>\n",
       "      <th>3</th>\n",
       "      <td>01/02/2022</td>\n",
       "      <td>Giselle</td>\n",
       "      <td>Male</td>\n",
       "      <td>13500</td>\n",
       "      <td>Chrysler of Tri-Cities</td>\n",
       "      <td>Toyota</td>\n",
       "      <td>Celica</td>\n",
       "      <td>Overhead Camshaft</td>\n",
       "      <td>Manual</td>\n",
       "      <td>Pale White</td>\n",
       "      <td>14000</td>\n",
       "      <td>99301-3882</td>\n",
       "      <td>SUV</td>\n",
       "      <td>6257557</td>\n",
       "      <td>Pasco</td>\n",
       "    </tr>\n",
       "    <tr>\n",
       "      <th>4</th>\n",
       "      <td>01/02/2022</td>\n",
       "      <td>Grace</td>\n",
       "      <td>Male</td>\n",
       "      <td>1465000</td>\n",
       "      <td>Chrysler Plymouth</td>\n",
       "      <td>Acura</td>\n",
       "      <td>TL</td>\n",
       "      <td>DoubleÃ‚Â Overhead Camshaft</td>\n",
       "      <td>Auto</td>\n",
       "      <td>Red</td>\n",
       "      <td>24500</td>\n",
       "      <td>53546-9427</td>\n",
       "      <td>Hatchback</td>\n",
       "      <td>7081483</td>\n",
       "      <td>Janesville</td>\n",
       "    </tr>\n",
       "  </tbody>\n",
       "</table>\n",
       "</div>"
      ],
      "text/plain": [
       "         Date Customer_Name Gender Annual_Income   \n",
       "0  01/02/2022     Geraldine   Male         13500  \\\n",
       "1  01/02/2022           Gia   Male       1480000   \n",
       "2  01/02/2022        Gianna   Male       1035000   \n",
       "3  01/02/2022       Giselle   Male         13500   \n",
       "4  01/02/2022         Grace   Male       1465000   \n",
       "\n",
       "                           Dealer_Name   Company       Model   \n",
       "0  Buddy Storbeck's Diesel Service Inc      Ford  Expedition  \\\n",
       "1                     C & M Motors Inc     Dodge     Durango   \n",
       "2                          Capitol KIA  Cadillac    Eldorado   \n",
       "3               Chrysler of Tri-Cities    Toyota      Celica   \n",
       "4                    Chrysler Plymouth     Acura          TL   \n",
       "\n",
       "                        Engine Transmission       Color Price($)   Dealer_No   \n",
       "0  DoubleÃ‚Â Overhead Camshaft         Auto       Black    26000  06457-3834  \\\n",
       "1  DoubleÃ‚Â Overhead Camshaft         Auto       Black    19000  60504-7114   \n",
       "2            Overhead Camshaft       Manual         Red    31500  38701-8047   \n",
       "3            Overhead Camshaft       Manual  Pale White    14000  99301-3882   \n",
       "4  DoubleÃ‚Â Overhead Camshaft         Auto         Red    24500  53546-9427   \n",
       "\n",
       "  Body_Style    Phone Dealer_Region  \n",
       "0        SUV  8264678    Middletown  \n",
       "1        SUV  6848189        Aurora  \n",
       "2  Passenger  7298798    Greenville  \n",
       "3        SUV  6257557         Pasco  \n",
       "4  Hatchback  7081483    Janesville  "
      ]
     },
     "execution_count": 386,
     "metadata": {},
     "output_type": "execute_result"
    }
   ],
   "source": [
    "data.head()"
   ]
  },
  {
   "cell_type": "code",
   "execution_count": 387,
   "id": "60a38104-e2f2-4a88-9670-6224cf83e9b7",
   "metadata": {},
   "outputs": [],
   "source": [
    "data['Date'] = pd.to_datetime(data['Date'])"
   ]
  },
  {
   "cell_type": "code",
   "execution_count": 388,
   "id": "6c6c8482-0fee-4a64-82e7-1fe04055f455",
   "metadata": {},
   "outputs": [],
   "source": [
    "data['Annual_Income'] = data['Annual_Income'].astype(int)\n",
    "data['Phone'] = data['Phone'].astype(int)"
   ]
  },
  {
   "cell_type": "code",
   "execution_count": 389,
   "id": "68e7a76e-4965-4166-b353-57e015106857",
   "metadata": {},
   "outputs": [
    {
     "name": "stdout",
     "output_type": "stream",
     "text": [
      "<class 'pandas.core.frame.DataFrame'>\n",
      "RangeIndex: 23906 entries, 0 to 23905\n",
      "Data columns (total 15 columns):\n",
      " #   Column         Non-Null Count  Dtype         \n",
      "---  ------         --------------  -----         \n",
      " 0   Date           23906 non-null  datetime64[ns]\n",
      " 1   Customer_Name  23906 non-null  object        \n",
      " 2   Gender         23906 non-null  object        \n",
      " 3   Annual_Income  23906 non-null  int32         \n",
      " 4   Dealer_Name    23906 non-null  object        \n",
      " 5   Company        23906 non-null  object        \n",
      " 6   Model          23906 non-null  object        \n",
      " 7   Engine         23906 non-null  object        \n",
      " 8   Transmission   23906 non-null  object        \n",
      " 9   Color          23906 non-null  object        \n",
      " 10  Price($)       23906 non-null  object        \n",
      " 11  Dealer_No      23906 non-null  object        \n",
      " 12  Body_Style     23906 non-null  object        \n",
      " 13  Phone          23906 non-null  int32         \n",
      " 14  Dealer_Region  23906 non-null  object        \n",
      "dtypes: datetime64[ns](1), int32(2), object(12)\n",
      "memory usage: 2.6+ MB\n"
     ]
    }
   ],
   "source": [
    "data.info()"
   ]
  },
  {
   "cell_type": "code",
   "execution_count": null,
   "id": "bf347555-5539-4ea0-aa7b-8039a20ebd28",
   "metadata": {},
   "outputs": [],
   "source": []
  },
  {
   "cell_type": "code",
   "execution_count": null,
   "id": "f73a722c-d48e-4373-b348-70a2cbc46690",
   "metadata": {},
   "outputs": [],
   "source": []
  },
  {
   "cell_type": "code",
   "execution_count": null,
   "id": "e01f34f3-9261-4b89-bde1-8c2872471e85",
   "metadata": {},
   "outputs": [],
   "source": []
  },
  {
   "cell_type": "markdown",
   "id": "5f9f759d-3323-434e-beb0-6fe66c86935b",
   "metadata": {},
   "source": [
    "*******************************************************************"
   ]
  },
  {
   "cell_type": "code",
   "execution_count": 260,
   "id": "84b397f7-a318-4fec-a87c-6fa1eebf24d4",
   "metadata": {},
   "outputs": [],
   "source": [
    "import psycopg2\n",
    "import pandas as pd\n",
    "\n",
    "# Function to connect to PostgreSQL database\n",
    "def connect():\n",
    "    conn = psycopg2.connect(\n",
    "        dbname=\"datapiece3\",\n",
    "        user=\"postgres\",\n",
    "        password=\"mdkn\",\n",
    "        host=\"localhost\",\n",
    "        port=\"5432\"\n",
    "    )\n",
    "    return conn\n",
    "\n",
    "\n",
    "def load_date_dim(conn, data):\n",
    "    cursor = conn.cursor()\n",
    "    try:\n",
    "        for index, row in data.iterrows():\n",
    "            cursor.execute(\"INSERT INTO Date_Dim (Date) VALUES (%s)\", (row['Date'],))\n",
    "        conn.commit()\n",
    "        print(\"Data loaded into Date_Dim table successfully!\")\n",
    "    except (Exception, psycopg2.DatabaseError) as error:\n",
    "        print(\"Error: %s\" % error)\n",
    "        conn.rollback()\n",
    "    finally:\n",
    "        cursor.close()"
   ]
  },
  {
   "cell_type": "code",
   "execution_count": 261,
   "id": "facb6e03-b9d8-4444-b4c7-1c85e1d6c538",
   "metadata": {},
   "outputs": [],
   "source": [
    "distinct_date = data[['Date']].drop_duplicates()"
   ]
  },
  {
   "cell_type": "code",
   "execution_count": 262,
   "id": "5219caea-e47f-45f7-8d4a-85c1a74b0acd",
   "metadata": {},
   "outputs": [
    {
     "data": {
      "text/plain": [
       "(612, 1)"
      ]
     },
     "execution_count": 262,
     "metadata": {},
     "output_type": "execute_result"
    }
   ],
   "source": [
    "distinct_date.shape"
   ]
  },
  {
   "cell_type": "code",
   "execution_count": 263,
   "id": "756775ec-9895-4ab4-ab7e-be8ab02c5d6e",
   "metadata": {},
   "outputs": [],
   "source": [
    "conn = connect()"
   ]
  },
  {
   "cell_type": "code",
   "execution_count": 264,
   "id": "ccc598da-a9a3-4936-9f51-9a419ffeeb48",
   "metadata": {},
   "outputs": [
    {
     "name": "stdout",
     "output_type": "stream",
     "text": [
      "Data loaded into Date_Dim table successfully!\n"
     ]
    }
   ],
   "source": [
    "load_date_dim(conn, distinct_date)\n",
    "conn.close()"
   ]
  },
  {
   "cell_type": "markdown",
   "id": "ed6d7845-7af2-46e6-bbcd-db7cca790e35",
   "metadata": {},
   "source": [
    "*******************************************************************"
   ]
  },
  {
   "cell_type": "code",
   "execution_count": 132,
   "id": "70cfee59-3e19-49c1-ae8e-14f33c901f9f",
   "metadata": {},
   "outputs": [],
   "source": [
    "def connect():\n",
    "    conn = psycopg2.connect(\n",
    "        dbname=\"datapiece3\",\n",
    "        user=\"postgres\",\n",
    "        password=\"mdkn\",\n",
    "        host=\"localhost\",\n",
    "        port=\"5432\"\n",
    "    )\n",
    "    return conn\n",
    "\n",
    "\n",
    "def load_car_dim(conn, data):\n",
    "    cursor = conn.cursor()\n",
    "    try:\n",
    "        for index, row in data.iterrows():\n",
    "            cursor.execute(\"INSERT INTO Car_Dim (Company, Model, Engine, Transmission, Color, Body_Style) VALUES (%s, %s, %s, %s, %s, %s)\", \n",
    "                           (row['Company'], row['Model'], row['Engine'], row['Transmission'], row['Color'], row['Body_Style']))\n",
    "        conn.commit()\n",
    "        print(\"Data loaded into Car_Dim table successfully!\")\n",
    "    except (Exception, psycopg2.DatabaseError) as error:\n",
    "        print(\"Error: %s\" % error)\n",
    "        conn.rollback()\n",
    "    finally:\n",
    "        cursor.close()"
   ]
  },
  {
   "cell_type": "code",
   "execution_count": 103,
   "id": "86d8b9ca-7bc2-44cc-b342-a169bdc6e5b9",
   "metadata": {},
   "outputs": [],
   "source": [
    "distinct_car = data[['Company', 'Model', 'Engine', 'Transmission', 'Color', 'Body_Style']]"
   ]
  },
  {
   "cell_type": "code",
   "execution_count": 105,
   "id": "717beadf-b99a-45a8-b6d8-1a10e493e711",
   "metadata": {},
   "outputs": [],
   "source": [
    "distinct_car = distinct_car.drop_duplicates()"
   ]
  },
  {
   "cell_type": "code",
   "execution_count": 124,
   "id": "3848946b-b170-41bd-aaa3-e976ed15f183",
   "metadata": {},
   "outputs": [
    {
     "data": {
      "text/plain": [
       "(740, 6)"
      ]
     },
     "execution_count": 124,
     "metadata": {},
     "output_type": "execute_result"
    }
   ],
   "source": [
    "distinct_car.shape"
   ]
  },
  {
   "cell_type": "code",
   "execution_count": 133,
   "id": "bdd5cf4a-41c0-4546-a3d2-e513618fbb21",
   "metadata": {},
   "outputs": [],
   "source": [
    "conn = connect()"
   ]
  },
  {
   "cell_type": "code",
   "execution_count": 134,
   "id": "0db6914e-915a-448e-949d-0cc31a4217ca",
   "metadata": {},
   "outputs": [
    {
     "name": "stdout",
     "output_type": "stream",
     "text": [
      "Data loaded into Car_Dim table successfully!\n"
     ]
    }
   ],
   "source": [
    "load_car_dim(conn, distinct_car)\n",
    "conn.close()"
   ]
  },
  {
   "cell_type": "markdown",
   "id": "4e71d5da-1f7a-4e08-bc8f-23c5b5efaea2",
   "metadata": {},
   "source": [
    "*******************************************************************"
   ]
  },
  {
   "cell_type": "code",
   "execution_count": 193,
   "id": "3e90c737-39e8-40dd-b61d-296310d0e848",
   "metadata": {},
   "outputs": [],
   "source": [
    "def connect():\n",
    "    conn = psycopg2.connect(\n",
    "        dbname=\"datapiece3\",\n",
    "        user=\"postgres\",\n",
    "        password=\"mdkn\",\n",
    "        host=\"localhost\",\n",
    "        port=\"5432\"\n",
    "    )\n",
    "    return conn\n",
    "\n",
    "\n",
    "\n",
    "def load_customer_dim(conn, data):\n",
    "    cursor = conn.cursor()\n",
    "    try:\n",
    "        for index, row in data.iterrows():\n",
    "            cursor.execute(\"INSERT INTO Customer_Dim (Customer_Name, Gender, Annual_Income, Phone) VALUES (%s, %s, %s, %s)\", \n",
    "                           (row['Customer_Name'], row['Gender'], row['Annual_Income'], row['Phone']))\n",
    "        conn.commit()\n",
    "        print(\"Data loaded into Customer_Dim table successfully!\")\n",
    "    except (Exception, psycopg2.DatabaseError) as error:\n",
    "        print(\"Error: %s\" % error)\n",
    "        conn.rollback()\n",
    "    finally:\n",
    "        cursor.close()"
   ]
  },
  {
   "cell_type": "code",
   "execution_count": 194,
   "id": "3a5e5ce2-208b-4a84-8611-f2d0a65d3b66",
   "metadata": {},
   "outputs": [],
   "source": [
    "distinct_customer = data[['Customer_Name', 'Gender', 'Annual_Income', 'Phone']]"
   ]
  },
  {
   "cell_type": "code",
   "execution_count": 195,
   "id": "ac58156e-f60e-4130-b0d8-e8830e78b9c7",
   "metadata": {},
   "outputs": [],
   "source": [
    "distinct_customer = distinct_customer.drop_duplicates()"
   ]
  },
  {
   "cell_type": "code",
   "execution_count": 196,
   "id": "68c2c0b9-d57c-43c9-a362-82a43af36312",
   "metadata": {},
   "outputs": [
    {
     "data": {
      "text/plain": [
       "(23906, 4)"
      ]
     },
     "execution_count": 196,
     "metadata": {},
     "output_type": "execute_result"
    }
   ],
   "source": [
    "distinct_customer.shape"
   ]
  },
  {
   "cell_type": "code",
   "execution_count": 197,
   "id": "6be7b1f1-98e5-4020-9bdd-f44f2ca749d2",
   "metadata": {},
   "outputs": [],
   "source": [
    "conn = connect()"
   ]
  },
  {
   "cell_type": "code",
   "execution_count": 198,
   "id": "f0312353-580e-4a95-8a25-dcf3d07982e9",
   "metadata": {},
   "outputs": [
    {
     "name": "stdout",
     "output_type": "stream",
     "text": [
      "Data loaded into Customer_Dim table successfully!\n"
     ]
    }
   ],
   "source": [
    "load_customer_dim(conn, distinct_customer)\n",
    "conn.close()"
   ]
  },
  {
   "cell_type": "markdown",
   "id": "f34af99c-24e0-4421-8e90-2d7fbc471876",
   "metadata": {},
   "source": [
    "*******************************************************************"
   ]
  },
  {
   "cell_type": "code",
   "execution_count": 161,
   "id": "7e60ed53-7400-40ae-a194-4822c757ec57",
   "metadata": {},
   "outputs": [],
   "source": [
    "def connect():\n",
    "    conn = psycopg2.connect(\n",
    "        dbname=\"datapiece3\",\n",
    "        user=\"postgres\",\n",
    "        password=\"mdkn\",\n",
    "        host=\"localhost\",\n",
    "        port=\"5432\"\n",
    "    )\n",
    "    return conn\n",
    "\n",
    "\n",
    "\n",
    "def load_dealer_dim(conn, data):\n",
    "    cursor = conn.cursor()\n",
    "    try:\n",
    "        for index, row in data.iterrows():\n",
    "            cursor.execute(\"INSERT INTO Dealer_Dim (Dealer_Name,  Dealer_No, Dealer_Region) VALUES (%s, %s, %s)\", \n",
    "                           (row['Dealer_Name'], row['Dealer_No'], row['Dealer_Region']))\n",
    "        conn.commit()\n",
    "        print(\"Data loaded into Dealer_Dim table successfully!\")\n",
    "    except (Exception, psycopg2.DatabaseError) as error:\n",
    "        print(\"Error: %s\" % error)\n",
    "        conn.rollback()\n",
    "    finally:\n",
    "        cursor.close()\n"
   ]
  },
  {
   "cell_type": "code",
   "execution_count": 162,
   "id": "47ba115a-10ee-4e67-b324-c91d2b63723a",
   "metadata": {},
   "outputs": [],
   "source": [
    "distinct_dealer = data[['Dealer_Name', 'Dealer_No', 'Dealer_Region']]"
   ]
  },
  {
   "cell_type": "code",
   "execution_count": 163,
   "id": "797d67d7-d36c-49d2-9bc7-39f35cb896ef",
   "metadata": {},
   "outputs": [],
   "source": [
    "distinct_dealer = distinct_dealer.drop_duplicates()"
   ]
  },
  {
   "cell_type": "code",
   "execution_count": 164,
   "id": "dddd6782-a948-41e4-9c07-2d3a24a8662d",
   "metadata": {},
   "outputs": [
    {
     "data": {
      "text/plain": [
       "(196, 3)"
      ]
     },
     "execution_count": 164,
     "metadata": {},
     "output_type": "execute_result"
    }
   ],
   "source": [
    "distinct_dealer.shape"
   ]
  },
  {
   "cell_type": "code",
   "execution_count": 165,
   "id": "17081423-502d-4db3-844c-e7d58e986c83",
   "metadata": {},
   "outputs": [],
   "source": [
    "conn = connect()"
   ]
  },
  {
   "cell_type": "code",
   "execution_count": 166,
   "id": "8e960e15-e169-4b18-bbe9-17719beb02dc",
   "metadata": {},
   "outputs": [
    {
     "name": "stdout",
     "output_type": "stream",
     "text": [
      "Data loaded into Dealer_Dim table successfully!\n"
     ]
    }
   ],
   "source": [
    "load_dealer_dim(conn, distinct_dealer)\n",
    "conn.close()"
   ]
  },
  {
   "cell_type": "code",
   "execution_count": null,
   "id": "713e13c3-b1fa-454c-ba4d-da36e15556dd",
   "metadata": {},
   "outputs": [],
   "source": []
  },
  {
   "cell_type": "code",
   "execution_count": 390,
   "id": "901d8ff0-69a9-4751-a872-2098619709ba",
   "metadata": {},
   "outputs": [
    {
     "data": {
      "text/html": [
       "<div>\n",
       "<style scoped>\n",
       "    .dataframe tbody tr th:only-of-type {\n",
       "        vertical-align: middle;\n",
       "    }\n",
       "\n",
       "    .dataframe tbody tr th {\n",
       "        vertical-align: top;\n",
       "    }\n",
       "\n",
       "    .dataframe thead th {\n",
       "        text-align: right;\n",
       "    }\n",
       "</style>\n",
       "<table border=\"1\" class=\"dataframe\">\n",
       "  <thead>\n",
       "    <tr style=\"text-align: right;\">\n",
       "      <th></th>\n",
       "      <th>Company</th>\n",
       "      <th>Model</th>\n",
       "      <th>Engine</th>\n",
       "      <th>Transmission</th>\n",
       "      <th>Color</th>\n",
       "      <th>Body_Style</th>\n",
       "    </tr>\n",
       "  </thead>\n",
       "  <tbody>\n",
       "    <tr>\n",
       "      <th>0</th>\n",
       "      <td>Ford</td>\n",
       "      <td>Expedition</td>\n",
       "      <td>DoubleÃ‚Â Overhead Camshaft</td>\n",
       "      <td>Auto</td>\n",
       "      <td>Black</td>\n",
       "      <td>SUV</td>\n",
       "    </tr>\n",
       "    <tr>\n",
       "      <th>1</th>\n",
       "      <td>Dodge</td>\n",
       "      <td>Durango</td>\n",
       "      <td>DoubleÃ‚Â Overhead Camshaft</td>\n",
       "      <td>Auto</td>\n",
       "      <td>Black</td>\n",
       "      <td>SUV</td>\n",
       "    </tr>\n",
       "    <tr>\n",
       "      <th>2</th>\n",
       "      <td>Cadillac</td>\n",
       "      <td>Eldorado</td>\n",
       "      <td>Overhead Camshaft</td>\n",
       "      <td>Manual</td>\n",
       "      <td>Red</td>\n",
       "      <td>Passenger</td>\n",
       "    </tr>\n",
       "    <tr>\n",
       "      <th>3</th>\n",
       "      <td>Toyota</td>\n",
       "      <td>Celica</td>\n",
       "      <td>Overhead Camshaft</td>\n",
       "      <td>Manual</td>\n",
       "      <td>Pale White</td>\n",
       "      <td>SUV</td>\n",
       "    </tr>\n",
       "    <tr>\n",
       "      <th>4</th>\n",
       "      <td>Acura</td>\n",
       "      <td>TL</td>\n",
       "      <td>DoubleÃ‚Â Overhead Camshaft</td>\n",
       "      <td>Auto</td>\n",
       "      <td>Red</td>\n",
       "      <td>Hatchback</td>\n",
       "    </tr>\n",
       "  </tbody>\n",
       "</table>\n",
       "</div>"
      ],
      "text/plain": [
       "    Company       Model                       Engine Transmission       Color   \n",
       "0      Ford  Expedition  DoubleÃ‚Â Overhead Camshaft         Auto       Black  \\\n",
       "1     Dodge     Durango  DoubleÃ‚Â Overhead Camshaft         Auto       Black   \n",
       "2  Cadillac    Eldorado            Overhead Camshaft       Manual         Red   \n",
       "3    Toyota      Celica            Overhead Camshaft       Manual  Pale White   \n",
       "4     Acura          TL  DoubleÃ‚Â Overhead Camshaft         Auto         Red   \n",
       "\n",
       "  Body_Style  \n",
       "0        SUV  \n",
       "1        SUV  \n",
       "2  Passenger  \n",
       "3        SUV  \n",
       "4  Hatchback  "
      ]
     },
     "execution_count": 390,
     "metadata": {},
     "output_type": "execute_result"
    }
   ],
   "source": [
    "distinct_car.head()"
   ]
  },
  {
   "cell_type": "code",
   "execution_count": 391,
   "id": "752f68ea-85d4-4962-8f4f-ddae1019882b",
   "metadata": {},
   "outputs": [
    {
     "data": {
      "text/html": [
       "<div>\n",
       "<style scoped>\n",
       "    .dataframe tbody tr th:only-of-type {\n",
       "        vertical-align: middle;\n",
       "    }\n",
       "\n",
       "    .dataframe tbody tr th {\n",
       "        vertical-align: top;\n",
       "    }\n",
       "\n",
       "    .dataframe thead th {\n",
       "        text-align: right;\n",
       "    }\n",
       "</style>\n",
       "<table border=\"1\" class=\"dataframe\">\n",
       "  <thead>\n",
       "    <tr style=\"text-align: right;\">\n",
       "      <th></th>\n",
       "      <th>Customer_Name</th>\n",
       "      <th>Gender</th>\n",
       "      <th>Annual_Income</th>\n",
       "      <th>Phone</th>\n",
       "    </tr>\n",
       "  </thead>\n",
       "  <tbody>\n",
       "    <tr>\n",
       "      <th>0</th>\n",
       "      <td>Geraldine</td>\n",
       "      <td>Male</td>\n",
       "      <td>13500</td>\n",
       "      <td>8264678</td>\n",
       "    </tr>\n",
       "    <tr>\n",
       "      <th>1</th>\n",
       "      <td>Gia</td>\n",
       "      <td>Male</td>\n",
       "      <td>1480000</td>\n",
       "      <td>6848189</td>\n",
       "    </tr>\n",
       "    <tr>\n",
       "      <th>2</th>\n",
       "      <td>Gianna</td>\n",
       "      <td>Male</td>\n",
       "      <td>1035000</td>\n",
       "      <td>7298798</td>\n",
       "    </tr>\n",
       "    <tr>\n",
       "      <th>3</th>\n",
       "      <td>Giselle</td>\n",
       "      <td>Male</td>\n",
       "      <td>13500</td>\n",
       "      <td>6257557</td>\n",
       "    </tr>\n",
       "    <tr>\n",
       "      <th>4</th>\n",
       "      <td>Grace</td>\n",
       "      <td>Male</td>\n",
       "      <td>1465000</td>\n",
       "      <td>7081483</td>\n",
       "    </tr>\n",
       "  </tbody>\n",
       "</table>\n",
       "</div>"
      ],
      "text/plain": [
       "  Customer_Name Gender  Annual_Income    Phone\n",
       "0     Geraldine   Male          13500  8264678\n",
       "1           Gia   Male        1480000  6848189\n",
       "2        Gianna   Male        1035000  7298798\n",
       "3       Giselle   Male          13500  6257557\n",
       "4         Grace   Male        1465000  7081483"
      ]
     },
     "execution_count": 391,
     "metadata": {},
     "output_type": "execute_result"
    }
   ],
   "source": [
    "distinct_customer.head()"
   ]
  },
  {
   "cell_type": "code",
   "execution_count": 392,
   "id": "561c6f1c-b752-463c-9f5d-01b670cb7525",
   "metadata": {},
   "outputs": [
    {
     "data": {
      "text/html": [
       "<div>\n",
       "<style scoped>\n",
       "    .dataframe tbody tr th:only-of-type {\n",
       "        vertical-align: middle;\n",
       "    }\n",
       "\n",
       "    .dataframe tbody tr th {\n",
       "        vertical-align: top;\n",
       "    }\n",
       "\n",
       "    .dataframe thead th {\n",
       "        text-align: right;\n",
       "    }\n",
       "</style>\n",
       "<table border=\"1\" class=\"dataframe\">\n",
       "  <thead>\n",
       "    <tr style=\"text-align: right;\">\n",
       "      <th></th>\n",
       "      <th>Date</th>\n",
       "    </tr>\n",
       "  </thead>\n",
       "  <tbody>\n",
       "    <tr>\n",
       "      <th>0</th>\n",
       "      <td>2022-01-02</td>\n",
       "    </tr>\n",
       "    <tr>\n",
       "      <th>35</th>\n",
       "      <td>2022-01-03</td>\n",
       "    </tr>\n",
       "    <tr>\n",
       "      <th>55</th>\n",
       "      <td>2022-01-04</td>\n",
       "    </tr>\n",
       "    <tr>\n",
       "      <th>70</th>\n",
       "      <td>2022-01-05</td>\n",
       "    </tr>\n",
       "    <tr>\n",
       "      <th>100</th>\n",
       "      <td>2022-01-06</td>\n",
       "    </tr>\n",
       "  </tbody>\n",
       "</table>\n",
       "</div>"
      ],
      "text/plain": [
       "          Date\n",
       "0   2022-01-02\n",
       "35  2022-01-03\n",
       "55  2022-01-04\n",
       "70  2022-01-05\n",
       "100 2022-01-06"
      ]
     },
     "execution_count": 392,
     "metadata": {},
     "output_type": "execute_result"
    }
   ],
   "source": [
    "distinct_date.head()"
   ]
  },
  {
   "cell_type": "code",
   "execution_count": 393,
   "id": "903374fc-6a42-4a8f-b9b8-8b022a2b77a0",
   "metadata": {},
   "outputs": [
    {
     "data": {
      "text/html": [
       "<div>\n",
       "<style scoped>\n",
       "    .dataframe tbody tr th:only-of-type {\n",
       "        vertical-align: middle;\n",
       "    }\n",
       "\n",
       "    .dataframe tbody tr th {\n",
       "        vertical-align: top;\n",
       "    }\n",
       "\n",
       "    .dataframe thead th {\n",
       "        text-align: right;\n",
       "    }\n",
       "</style>\n",
       "<table border=\"1\" class=\"dataframe\">\n",
       "  <thead>\n",
       "    <tr style=\"text-align: right;\">\n",
       "      <th></th>\n",
       "      <th>Dealer_Name</th>\n",
       "      <th>Dealer_No</th>\n",
       "      <th>Dealer_Region</th>\n",
       "    </tr>\n",
       "  </thead>\n",
       "  <tbody>\n",
       "    <tr>\n",
       "      <th>0</th>\n",
       "      <td>Buddy Storbeck's Diesel Service Inc</td>\n",
       "      <td>06457-3834</td>\n",
       "      <td>Middletown</td>\n",
       "    </tr>\n",
       "    <tr>\n",
       "      <th>1</th>\n",
       "      <td>C &amp; M Motors Inc</td>\n",
       "      <td>60504-7114</td>\n",
       "      <td>Aurora</td>\n",
       "    </tr>\n",
       "    <tr>\n",
       "      <th>2</th>\n",
       "      <td>Capitol KIA</td>\n",
       "      <td>38701-8047</td>\n",
       "      <td>Greenville</td>\n",
       "    </tr>\n",
       "    <tr>\n",
       "      <th>3</th>\n",
       "      <td>Chrysler of Tri-Cities</td>\n",
       "      <td>99301-3882</td>\n",
       "      <td>Pasco</td>\n",
       "    </tr>\n",
       "    <tr>\n",
       "      <th>4</th>\n",
       "      <td>Chrysler Plymouth</td>\n",
       "      <td>53546-9427</td>\n",
       "      <td>Janesville</td>\n",
       "    </tr>\n",
       "  </tbody>\n",
       "</table>\n",
       "</div>"
      ],
      "text/plain": [
       "                           Dealer_Name   Dealer_No Dealer_Region\n",
       "0  Buddy Storbeck's Diesel Service Inc  06457-3834    Middletown\n",
       "1                     C & M Motors Inc  60504-7114        Aurora\n",
       "2                          Capitol KIA  38701-8047    Greenville\n",
       "3               Chrysler of Tri-Cities  99301-3882         Pasco\n",
       "4                    Chrysler Plymouth  53546-9427    Janesville"
      ]
     },
     "execution_count": 393,
     "metadata": {},
     "output_type": "execute_result"
    }
   ],
   "source": [
    "distinct_dealer.head()"
   ]
  },
  {
   "cell_type": "code",
   "execution_count": null,
   "id": "752dc8a7-f657-41c9-9d8b-d30f3d937df0",
   "metadata": {},
   "outputs": [],
   "source": []
  },
  {
   "cell_type": "code",
   "execution_count": 394,
   "id": "f2a2ced8-c131-48eb-a61b-0d1255c94ae3",
   "metadata": {},
   "outputs": [],
   "source": [
    "def extract_car_dim(conn):\n",
    "    cursor = conn.cursor()\n",
    "    try:\n",
    "        cursor.execute(\"SELECT * FROM Car_Dim\")\n",
    "        rows = cursor.fetchall()\n",
    "        columns = [desc[0] for desc in cursor.description]\n",
    "        df = pd.DataFrame(rows, columns=columns)\n",
    "        return df\n",
    "    except (Exception, psycopg2.DatabaseError) as error:\n",
    "        print(\"Error: %s\" % error)\n",
    "    finally:\n",
    "        cursor.close()"
   ]
  },
  {
   "cell_type": "code",
   "execution_count": 395,
   "id": "0902d6c2-a45f-4414-8a82-17bfbf9dd62c",
   "metadata": {},
   "outputs": [],
   "source": [
    "conn = connect()\n",
    "\n",
    "# Extract data from Car_Dim table\n",
    "car_dim = extract_car_dim(conn)"
   ]
  },
  {
   "cell_type": "code",
   "execution_count": 396,
   "id": "8f9604bf-6c59-4c8d-96d7-7c71cf4c2a39",
   "metadata": {},
   "outputs": [
    {
     "data": {
      "text/html": [
       "<div>\n",
       "<style scoped>\n",
       "    .dataframe tbody tr th:only-of-type {\n",
       "        vertical-align: middle;\n",
       "    }\n",
       "\n",
       "    .dataframe tbody tr th {\n",
       "        vertical-align: top;\n",
       "    }\n",
       "\n",
       "    .dataframe thead th {\n",
       "        text-align: right;\n",
       "    }\n",
       "</style>\n",
       "<table border=\"1\" class=\"dataframe\">\n",
       "  <thead>\n",
       "    <tr style=\"text-align: right;\">\n",
       "      <th></th>\n",
       "      <th>car_id</th>\n",
       "      <th>company</th>\n",
       "      <th>model</th>\n",
       "      <th>engine</th>\n",
       "      <th>transmission</th>\n",
       "      <th>color</th>\n",
       "      <th>body_style</th>\n",
       "    </tr>\n",
       "  </thead>\n",
       "  <tbody>\n",
       "    <tr>\n",
       "      <th>0</th>\n",
       "      <td>1</td>\n",
       "      <td>Ford</td>\n",
       "      <td>Expedition</td>\n",
       "      <td>DoubleÃ‚Â Overhead Camshaft</td>\n",
       "      <td>Auto</td>\n",
       "      <td>Black</td>\n",
       "      <td>SUV</td>\n",
       "    </tr>\n",
       "    <tr>\n",
       "      <th>1</th>\n",
       "      <td>2</td>\n",
       "      <td>Dodge</td>\n",
       "      <td>Durango</td>\n",
       "      <td>DoubleÃ‚Â Overhead Camshaft</td>\n",
       "      <td>Auto</td>\n",
       "      <td>Black</td>\n",
       "      <td>SUV</td>\n",
       "    </tr>\n",
       "    <tr>\n",
       "      <th>2</th>\n",
       "      <td>3</td>\n",
       "      <td>Cadillac</td>\n",
       "      <td>Eldorado</td>\n",
       "      <td>Overhead Camshaft</td>\n",
       "      <td>Manual</td>\n",
       "      <td>Red</td>\n",
       "      <td>Passenger</td>\n",
       "    </tr>\n",
       "    <tr>\n",
       "      <th>3</th>\n",
       "      <td>4</td>\n",
       "      <td>Toyota</td>\n",
       "      <td>Celica</td>\n",
       "      <td>Overhead Camshaft</td>\n",
       "      <td>Manual</td>\n",
       "      <td>Pale White</td>\n",
       "      <td>SUV</td>\n",
       "    </tr>\n",
       "    <tr>\n",
       "      <th>4</th>\n",
       "      <td>5</td>\n",
       "      <td>Acura</td>\n",
       "      <td>TL</td>\n",
       "      <td>DoubleÃ‚Â Overhead Camshaft</td>\n",
       "      <td>Auto</td>\n",
       "      <td>Red</td>\n",
       "      <td>Hatchback</td>\n",
       "    </tr>\n",
       "  </tbody>\n",
       "</table>\n",
       "</div>"
      ],
      "text/plain": [
       "   car_id   company       model                       engine transmission   \n",
       "0       1      Ford  Expedition  DoubleÃ‚Â Overhead Camshaft         Auto  \\\n",
       "1       2     Dodge     Durango  DoubleÃ‚Â Overhead Camshaft         Auto   \n",
       "2       3  Cadillac    Eldorado            Overhead Camshaft       Manual   \n",
       "3       4    Toyota      Celica            Overhead Camshaft       Manual   \n",
       "4       5     Acura          TL  DoubleÃ‚Â Overhead Camshaft         Auto   \n",
       "\n",
       "        color body_style  \n",
       "0       Black        SUV  \n",
       "1       Black        SUV  \n",
       "2         Red  Passenger  \n",
       "3  Pale White        SUV  \n",
       "4         Red  Hatchback  "
      ]
     },
     "execution_count": 396,
     "metadata": {},
     "output_type": "execute_result"
    }
   ],
   "source": [
    "car_dim.head()"
   ]
  },
  {
   "cell_type": "code",
   "execution_count": 397,
   "id": "adc989e9-d446-46f0-8c86-1beb2affe4c1",
   "metadata": {},
   "outputs": [],
   "source": [
    "def extract_date_dim(conn):\n",
    "    cursor = conn.cursor()\n",
    "    try:\n",
    "        cursor.execute(\"SELECT * FROM date_dim\")\n",
    "        rows = cursor.fetchall()\n",
    "        columns = [desc[0] for desc in cursor.description]\n",
    "        df = pd.DataFrame(rows, columns=columns)\n",
    "        return df\n",
    "    except (Exception, psycopg2.DatabaseError) as error:\n",
    "        print(\"Error: %s\" % error)\n",
    "    finally:\n",
    "        cursor.close()"
   ]
  },
  {
   "cell_type": "code",
   "execution_count": 398,
   "id": "1d0e510c-2da7-4880-af08-c1c0e15c6710",
   "metadata": {},
   "outputs": [],
   "source": [
    "conn = connect()\n",
    "\n",
    "# Extract data from Car_Dim table\n",
    "date_dim = extract_date_dim(conn)"
   ]
  },
  {
   "cell_type": "code",
   "execution_count": 399,
   "id": "4d8b72f7-e7ad-4301-9381-2cf427a12530",
   "metadata": {},
   "outputs": [
    {
     "data": {
      "text/html": [
       "<div>\n",
       "<style scoped>\n",
       "    .dataframe tbody tr th:only-of-type {\n",
       "        vertical-align: middle;\n",
       "    }\n",
       "\n",
       "    .dataframe tbody tr th {\n",
       "        vertical-align: top;\n",
       "    }\n",
       "\n",
       "    .dataframe thead th {\n",
       "        text-align: right;\n",
       "    }\n",
       "</style>\n",
       "<table border=\"1\" class=\"dataframe\">\n",
       "  <thead>\n",
       "    <tr style=\"text-align: right;\">\n",
       "      <th></th>\n",
       "      <th>date_id</th>\n",
       "      <th>date</th>\n",
       "    </tr>\n",
       "  </thead>\n",
       "  <tbody>\n",
       "    <tr>\n",
       "      <th>0</th>\n",
       "      <td>72959</td>\n",
       "      <td>2022-01-02</td>\n",
       "    </tr>\n",
       "    <tr>\n",
       "      <th>1</th>\n",
       "      <td>72960</td>\n",
       "      <td>2022-01-03</td>\n",
       "    </tr>\n",
       "    <tr>\n",
       "      <th>2</th>\n",
       "      <td>72961</td>\n",
       "      <td>2022-01-04</td>\n",
       "    </tr>\n",
       "    <tr>\n",
       "      <th>3</th>\n",
       "      <td>72962</td>\n",
       "      <td>2022-01-05</td>\n",
       "    </tr>\n",
       "    <tr>\n",
       "      <th>4</th>\n",
       "      <td>72963</td>\n",
       "      <td>2022-01-06</td>\n",
       "    </tr>\n",
       "  </tbody>\n",
       "</table>\n",
       "</div>"
      ],
      "text/plain": [
       "   date_id        date\n",
       "0    72959  2022-01-02\n",
       "1    72960  2022-01-03\n",
       "2    72961  2022-01-04\n",
       "3    72962  2022-01-05\n",
       "4    72963  2022-01-06"
      ]
     },
     "execution_count": 399,
     "metadata": {},
     "output_type": "execute_result"
    }
   ],
   "source": [
    "date_dim.head()"
   ]
  },
  {
   "cell_type": "code",
   "execution_count": 400,
   "id": "efd023df-2387-40e8-b45a-426d07428d29",
   "metadata": {},
   "outputs": [],
   "source": [
    "date_dim['date'] = pd.to_datetime(date_dim['date'])"
   ]
  },
  {
   "cell_type": "code",
   "execution_count": 401,
   "id": "20a2744b-ae35-46a7-9544-d3119e769b63",
   "metadata": {},
   "outputs": [
    {
     "name": "stdout",
     "output_type": "stream",
     "text": [
      "<class 'pandas.core.frame.DataFrame'>\n",
      "RangeIndex: 612 entries, 0 to 611\n",
      "Data columns (total 2 columns):\n",
      " #   Column   Non-Null Count  Dtype         \n",
      "---  ------   --------------  -----         \n",
      " 0   date_id  612 non-null    int64         \n",
      " 1   date     612 non-null    datetime64[ns]\n",
      "dtypes: datetime64[ns](1), int64(1)\n",
      "memory usage: 9.7 KB\n"
     ]
    }
   ],
   "source": [
    "date_dim.info()"
   ]
  },
  {
   "cell_type": "code",
   "execution_count": 402,
   "id": "e19ff064-5957-4ad8-aa9d-b02773f46fcd",
   "metadata": {},
   "outputs": [],
   "source": [
    "def extract_customer_dim(conn):\n",
    "    cursor = conn.cursor()\n",
    "    try:\n",
    "        cursor.execute(\"SELECT * FROM customer_dim\")\n",
    "        rows = cursor.fetchall()\n",
    "        columns = [desc[0] for desc in cursor.description]\n",
    "        df = pd.DataFrame(rows, columns=columns)\n",
    "        return df\n",
    "    except (Exception, psycopg2.DatabaseError) as error:\n",
    "        print(\"Error: %s\" % error)\n",
    "    finally:\n",
    "        cursor.close()"
   ]
  },
  {
   "cell_type": "code",
   "execution_count": 403,
   "id": "b9528ffc-2da1-4fc6-b940-a41e1d3b680f",
   "metadata": {},
   "outputs": [],
   "source": [
    "conn = connect()\n",
    "\n",
    "# Extract data from Car_Dim table\n",
    "customer_dim = extract_customer_dim(conn)"
   ]
  },
  {
   "cell_type": "code",
   "execution_count": 404,
   "id": "00c57c84-b752-457e-bea0-19fb6649aee3",
   "metadata": {},
   "outputs": [
    {
     "data": {
      "text/html": [
       "<div>\n",
       "<style scoped>\n",
       "    .dataframe tbody tr th:only-of-type {\n",
       "        vertical-align: middle;\n",
       "    }\n",
       "\n",
       "    .dataframe tbody tr th {\n",
       "        vertical-align: top;\n",
       "    }\n",
       "\n",
       "    .dataframe thead th {\n",
       "        text-align: right;\n",
       "    }\n",
       "</style>\n",
       "<table border=\"1\" class=\"dataframe\">\n",
       "  <thead>\n",
       "    <tr style=\"text-align: right;\">\n",
       "      <th></th>\n",
       "      <th>customer_id</th>\n",
       "      <th>customer_name</th>\n",
       "      <th>gender</th>\n",
       "      <th>annual_income</th>\n",
       "      <th>phone</th>\n",
       "    </tr>\n",
       "  </thead>\n",
       "  <tbody>\n",
       "    <tr>\n",
       "      <th>0</th>\n",
       "      <td>1</td>\n",
       "      <td>Geraldine</td>\n",
       "      <td>Male</td>\n",
       "      <td>13500</td>\n",
       "      <td>8264678</td>\n",
       "    </tr>\n",
       "    <tr>\n",
       "      <th>1</th>\n",
       "      <td>2</td>\n",
       "      <td>Gia</td>\n",
       "      <td>Male</td>\n",
       "      <td>1480000</td>\n",
       "      <td>6848189</td>\n",
       "    </tr>\n",
       "    <tr>\n",
       "      <th>2</th>\n",
       "      <td>3</td>\n",
       "      <td>Gianna</td>\n",
       "      <td>Male</td>\n",
       "      <td>1035000</td>\n",
       "      <td>7298798</td>\n",
       "    </tr>\n",
       "    <tr>\n",
       "      <th>3</th>\n",
       "      <td>4</td>\n",
       "      <td>Giselle</td>\n",
       "      <td>Male</td>\n",
       "      <td>13500</td>\n",
       "      <td>6257557</td>\n",
       "    </tr>\n",
       "    <tr>\n",
       "      <th>4</th>\n",
       "      <td>5</td>\n",
       "      <td>Grace</td>\n",
       "      <td>Male</td>\n",
       "      <td>1465000</td>\n",
       "      <td>7081483</td>\n",
       "    </tr>\n",
       "  </tbody>\n",
       "</table>\n",
       "</div>"
      ],
      "text/plain": [
       "   customer_id customer_name gender annual_income    phone\n",
       "0            1     Geraldine   Male         13500  8264678\n",
       "1            2           Gia   Male       1480000  6848189\n",
       "2            3        Gianna   Male       1035000  7298798\n",
       "3            4       Giselle   Male         13500  6257557\n",
       "4            5         Grace   Male       1465000  7081483"
      ]
     },
     "execution_count": 404,
     "metadata": {},
     "output_type": "execute_result"
    }
   ],
   "source": [
    "customer_dim.head()"
   ]
  },
  {
   "cell_type": "code",
   "execution_count": 405,
   "id": "46e3d58a-7396-4587-bbd8-c496cb1838b8",
   "metadata": {},
   "outputs": [],
   "source": [
    "def extract_dealer_dim(conn):\n",
    "    cursor = conn.cursor()\n",
    "    try:\n",
    "        cursor.execute(\"SELECT * FROM dealer_dim\")\n",
    "        rows = cursor.fetchall()\n",
    "        columns = [desc[0] for desc in cursor.description]\n",
    "        df = pd.DataFrame(rows, columns=columns)\n",
    "        return df\n",
    "    except (Exception, psycopg2.DatabaseError) as error:\n",
    "        print(\"Error: %s\" % error)\n",
    "    finally:\n",
    "        cursor.close()"
   ]
  },
  {
   "cell_type": "code",
   "execution_count": 406,
   "id": "8452ee71-cdf0-4723-9051-b6d60de61efd",
   "metadata": {},
   "outputs": [],
   "source": [
    "conn = connect()\n",
    "\n",
    "# Extract data from the Car_Dim table\n",
    "dealer_dim = extract_dealer_dim(conn)"
   ]
  },
  {
   "cell_type": "code",
   "execution_count": 407,
   "id": "dc3e917a-9d1a-498a-a83a-56b79f0ecd9f",
   "metadata": {},
   "outputs": [
    {
     "data": {
      "text/html": [
       "<div>\n",
       "<style scoped>\n",
       "    .dataframe tbody tr th:only-of-type {\n",
       "        vertical-align: middle;\n",
       "    }\n",
       "\n",
       "    .dataframe tbody tr th {\n",
       "        vertical-align: top;\n",
       "    }\n",
       "\n",
       "    .dataframe thead th {\n",
       "        text-align: right;\n",
       "    }\n",
       "</style>\n",
       "<table border=\"1\" class=\"dataframe\">\n",
       "  <thead>\n",
       "    <tr style=\"text-align: right;\">\n",
       "      <th></th>\n",
       "      <th>dealer_id</th>\n",
       "      <th>dealer_name</th>\n",
       "      <th>dealer_no</th>\n",
       "      <th>dealer_region</th>\n",
       "    </tr>\n",
       "  </thead>\n",
       "  <tbody>\n",
       "    <tr>\n",
       "      <th>0</th>\n",
       "      <td>1</td>\n",
       "      <td>Buddy Storbeck's Diesel Service Inc</td>\n",
       "      <td>06457-3834</td>\n",
       "      <td>Middletown</td>\n",
       "    </tr>\n",
       "    <tr>\n",
       "      <th>1</th>\n",
       "      <td>2</td>\n",
       "      <td>C &amp; M Motors Inc</td>\n",
       "      <td>60504-7114</td>\n",
       "      <td>Aurora</td>\n",
       "    </tr>\n",
       "    <tr>\n",
       "      <th>2</th>\n",
       "      <td>3</td>\n",
       "      <td>Capitol KIA</td>\n",
       "      <td>38701-8047</td>\n",
       "      <td>Greenville</td>\n",
       "    </tr>\n",
       "    <tr>\n",
       "      <th>3</th>\n",
       "      <td>4</td>\n",
       "      <td>Chrysler of Tri-Cities</td>\n",
       "      <td>99301-3882</td>\n",
       "      <td>Pasco</td>\n",
       "    </tr>\n",
       "    <tr>\n",
       "      <th>4</th>\n",
       "      <td>5</td>\n",
       "      <td>Chrysler Plymouth</td>\n",
       "      <td>53546-9427</td>\n",
       "      <td>Janesville</td>\n",
       "    </tr>\n",
       "  </tbody>\n",
       "</table>\n",
       "</div>"
      ],
      "text/plain": [
       "   dealer_id                          dealer_name   dealer_no dealer_region\n",
       "0          1  Buddy Storbeck's Diesel Service Inc  06457-3834    Middletown\n",
       "1          2                     C & M Motors Inc  60504-7114        Aurora\n",
       "2          3                          Capitol KIA  38701-8047    Greenville\n",
       "3          4               Chrysler of Tri-Cities  99301-3882         Pasco\n",
       "4          5                    Chrysler Plymouth  53546-9427    Janesville"
      ]
     },
     "execution_count": 407,
     "metadata": {},
     "output_type": "execute_result"
    }
   ],
   "source": [
    "dealer_dim.head()"
   ]
  },
  {
   "cell_type": "code",
   "execution_count": 408,
   "id": "5327096e-9aca-4a4b-953d-551406e68951",
   "metadata": {},
   "outputs": [],
   "source": [
    "data.columns = [x.lower() for x in data.columns]"
   ]
  },
  {
   "cell_type": "code",
   "execution_count": 409,
   "id": "89817e6d-013e-4edf-af08-48cc9f559047",
   "metadata": {},
   "outputs": [
    {
     "data": {
      "text/html": [
       "<div>\n",
       "<style scoped>\n",
       "    .dataframe tbody tr th:only-of-type {\n",
       "        vertical-align: middle;\n",
       "    }\n",
       "\n",
       "    .dataframe tbody tr th {\n",
       "        vertical-align: top;\n",
       "    }\n",
       "\n",
       "    .dataframe thead th {\n",
       "        text-align: right;\n",
       "    }\n",
       "</style>\n",
       "<table border=\"1\" class=\"dataframe\">\n",
       "  <thead>\n",
       "    <tr style=\"text-align: right;\">\n",
       "      <th></th>\n",
       "      <th>date</th>\n",
       "      <th>customer_name</th>\n",
       "      <th>gender</th>\n",
       "      <th>annual_income</th>\n",
       "      <th>dealer_name</th>\n",
       "      <th>company</th>\n",
       "      <th>model</th>\n",
       "      <th>engine</th>\n",
       "      <th>transmission</th>\n",
       "      <th>color</th>\n",
       "      <th>price($)</th>\n",
       "      <th>dealer_no</th>\n",
       "      <th>body_style</th>\n",
       "      <th>phone</th>\n",
       "      <th>dealer_region</th>\n",
       "    </tr>\n",
       "  </thead>\n",
       "  <tbody>\n",
       "    <tr>\n",
       "      <th>0</th>\n",
       "      <td>2022-01-02</td>\n",
       "      <td>Geraldine</td>\n",
       "      <td>Male</td>\n",
       "      <td>13500</td>\n",
       "      <td>Buddy Storbeck's Diesel Service Inc</td>\n",
       "      <td>Ford</td>\n",
       "      <td>Expedition</td>\n",
       "      <td>DoubleÃ‚Â Overhead Camshaft</td>\n",
       "      <td>Auto</td>\n",
       "      <td>Black</td>\n",
       "      <td>26000</td>\n",
       "      <td>06457-3834</td>\n",
       "      <td>SUV</td>\n",
       "      <td>8264678</td>\n",
       "      <td>Middletown</td>\n",
       "    </tr>\n",
       "    <tr>\n",
       "      <th>1</th>\n",
       "      <td>2022-01-02</td>\n",
       "      <td>Gia</td>\n",
       "      <td>Male</td>\n",
       "      <td>1480000</td>\n",
       "      <td>C &amp; M Motors Inc</td>\n",
       "      <td>Dodge</td>\n",
       "      <td>Durango</td>\n",
       "      <td>DoubleÃ‚Â Overhead Camshaft</td>\n",
       "      <td>Auto</td>\n",
       "      <td>Black</td>\n",
       "      <td>19000</td>\n",
       "      <td>60504-7114</td>\n",
       "      <td>SUV</td>\n",
       "      <td>6848189</td>\n",
       "      <td>Aurora</td>\n",
       "    </tr>\n",
       "    <tr>\n",
       "      <th>2</th>\n",
       "      <td>2022-01-02</td>\n",
       "      <td>Gianna</td>\n",
       "      <td>Male</td>\n",
       "      <td>1035000</td>\n",
       "      <td>Capitol KIA</td>\n",
       "      <td>Cadillac</td>\n",
       "      <td>Eldorado</td>\n",
       "      <td>Overhead Camshaft</td>\n",
       "      <td>Manual</td>\n",
       "      <td>Red</td>\n",
       "      <td>31500</td>\n",
       "      <td>38701-8047</td>\n",
       "      <td>Passenger</td>\n",
       "      <td>7298798</td>\n",
       "      <td>Greenville</td>\n",
       "    </tr>\n",
       "  </tbody>\n",
       "</table>\n",
       "</div>"
      ],
      "text/plain": [
       "        date customer_name gender  annual_income   \n",
       "0 2022-01-02     Geraldine   Male          13500  \\\n",
       "1 2022-01-02           Gia   Male        1480000   \n",
       "2 2022-01-02        Gianna   Male        1035000   \n",
       "\n",
       "                           dealer_name   company       model   \n",
       "0  Buddy Storbeck's Diesel Service Inc      Ford  Expedition  \\\n",
       "1                     C & M Motors Inc     Dodge     Durango   \n",
       "2                          Capitol KIA  Cadillac    Eldorado   \n",
       "\n",
       "                        engine transmission  color price($)   dealer_no   \n",
       "0  DoubleÃ‚Â Overhead Camshaft         Auto  Black    26000  06457-3834  \\\n",
       "1  DoubleÃ‚Â Overhead Camshaft         Auto  Black    19000  60504-7114   \n",
       "2            Overhead Camshaft       Manual    Red    31500  38701-8047   \n",
       "\n",
       "  body_style    phone dealer_region  \n",
       "0        SUV  8264678    Middletown  \n",
       "1        SUV  6848189        Aurora  \n",
       "2  Passenger  7298798    Greenville  "
      ]
     },
     "execution_count": 409,
     "metadata": {},
     "output_type": "execute_result"
    }
   ],
   "source": [
    "data.head(3)"
   ]
  },
  {
   "cell_type": "code",
   "execution_count": 410,
   "id": "c5b98cd4-4c76-4fff-822b-74e0e6e6c998",
   "metadata": {},
   "outputs": [
    {
     "name": "stdout",
     "output_type": "stream",
     "text": [
      "<class 'pandas.core.frame.DataFrame'>\n",
      "RangeIndex: 23906 entries, 0 to 23905\n",
      "Data columns (total 15 columns):\n",
      " #   Column         Non-Null Count  Dtype         \n",
      "---  ------         --------------  -----         \n",
      " 0   date           23906 non-null  datetime64[ns]\n",
      " 1   customer_name  23906 non-null  object        \n",
      " 2   gender         23906 non-null  object        \n",
      " 3   annual_income  23906 non-null  int32         \n",
      " 4   dealer_name    23906 non-null  object        \n",
      " 5   company        23906 non-null  object        \n",
      " 6   model          23906 non-null  object        \n",
      " 7   engine         23906 non-null  object        \n",
      " 8   transmission   23906 non-null  object        \n",
      " 9   color          23906 non-null  object        \n",
      " 10  price($)       23906 non-null  object        \n",
      " 11  dealer_no      23906 non-null  object        \n",
      " 12  body_style     23906 non-null  object        \n",
      " 13  phone          23906 non-null  int32         \n",
      " 14  dealer_region  23906 non-null  object        \n",
      "dtypes: datetime64[ns](1), int32(2), object(12)\n",
      "memory usage: 2.6+ MB\n"
     ]
    }
   ],
   "source": [
    "data.info()"
   ]
  },
  {
   "cell_type": "code",
   "execution_count": 411,
   "id": "25a6e173-2a92-4905-b638-c17d7f1aa44b",
   "metadata": {},
   "outputs": [],
   "source": [
    "df1 = pd.merge(data, car_dim, on=list(car_dim.columns[1:]), how='left')"
   ]
  },
  {
   "cell_type": "code",
   "execution_count": 412,
   "id": "b0702db5-178e-49ac-a1a8-e13c5b07995d",
   "metadata": {},
   "outputs": [
    {
     "data": {
      "text/html": [
       "<div>\n",
       "<style scoped>\n",
       "    .dataframe tbody tr th:only-of-type {\n",
       "        vertical-align: middle;\n",
       "    }\n",
       "\n",
       "    .dataframe tbody tr th {\n",
       "        vertical-align: top;\n",
       "    }\n",
       "\n",
       "    .dataframe thead th {\n",
       "        text-align: right;\n",
       "    }\n",
       "</style>\n",
       "<table border=\"1\" class=\"dataframe\">\n",
       "  <thead>\n",
       "    <tr style=\"text-align: right;\">\n",
       "      <th></th>\n",
       "      <th>date</th>\n",
       "      <th>customer_name</th>\n",
       "      <th>gender</th>\n",
       "      <th>annual_income</th>\n",
       "      <th>dealer_name</th>\n",
       "      <th>company</th>\n",
       "      <th>model</th>\n",
       "      <th>engine</th>\n",
       "      <th>transmission</th>\n",
       "      <th>color</th>\n",
       "      <th>price($)</th>\n",
       "      <th>dealer_no</th>\n",
       "      <th>body_style</th>\n",
       "      <th>phone</th>\n",
       "      <th>dealer_region</th>\n",
       "      <th>car_id</th>\n",
       "    </tr>\n",
       "  </thead>\n",
       "  <tbody>\n",
       "    <tr>\n",
       "      <th>0</th>\n",
       "      <td>2022-01-02</td>\n",
       "      <td>Geraldine</td>\n",
       "      <td>Male</td>\n",
       "      <td>13500</td>\n",
       "      <td>Buddy Storbeck's Diesel Service Inc</td>\n",
       "      <td>Ford</td>\n",
       "      <td>Expedition</td>\n",
       "      <td>DoubleÃ‚Â Overhead Camshaft</td>\n",
       "      <td>Auto</td>\n",
       "      <td>Black</td>\n",
       "      <td>26000</td>\n",
       "      <td>06457-3834</td>\n",
       "      <td>SUV</td>\n",
       "      <td>8264678</td>\n",
       "      <td>Middletown</td>\n",
       "      <td>1</td>\n",
       "    </tr>\n",
       "    <tr>\n",
       "      <th>1</th>\n",
       "      <td>2022-01-02</td>\n",
       "      <td>Gia</td>\n",
       "      <td>Male</td>\n",
       "      <td>1480000</td>\n",
       "      <td>C &amp; M Motors Inc</td>\n",
       "      <td>Dodge</td>\n",
       "      <td>Durango</td>\n",
       "      <td>DoubleÃ‚Â Overhead Camshaft</td>\n",
       "      <td>Auto</td>\n",
       "      <td>Black</td>\n",
       "      <td>19000</td>\n",
       "      <td>60504-7114</td>\n",
       "      <td>SUV</td>\n",
       "      <td>6848189</td>\n",
       "      <td>Aurora</td>\n",
       "      <td>2</td>\n",
       "    </tr>\n",
       "    <tr>\n",
       "      <th>2</th>\n",
       "      <td>2022-01-02</td>\n",
       "      <td>Gianna</td>\n",
       "      <td>Male</td>\n",
       "      <td>1035000</td>\n",
       "      <td>Capitol KIA</td>\n",
       "      <td>Cadillac</td>\n",
       "      <td>Eldorado</td>\n",
       "      <td>Overhead Camshaft</td>\n",
       "      <td>Manual</td>\n",
       "      <td>Red</td>\n",
       "      <td>31500</td>\n",
       "      <td>38701-8047</td>\n",
       "      <td>Passenger</td>\n",
       "      <td>7298798</td>\n",
       "      <td>Greenville</td>\n",
       "      <td>3</td>\n",
       "    </tr>\n",
       "  </tbody>\n",
       "</table>\n",
       "</div>"
      ],
      "text/plain": [
       "        date customer_name gender  annual_income   \n",
       "0 2022-01-02     Geraldine   Male          13500  \\\n",
       "1 2022-01-02           Gia   Male        1480000   \n",
       "2 2022-01-02        Gianna   Male        1035000   \n",
       "\n",
       "                           dealer_name   company       model   \n",
       "0  Buddy Storbeck's Diesel Service Inc      Ford  Expedition  \\\n",
       "1                     C & M Motors Inc     Dodge     Durango   \n",
       "2                          Capitol KIA  Cadillac    Eldorado   \n",
       "\n",
       "                        engine transmission  color price($)   dealer_no   \n",
       "0  DoubleÃ‚Â Overhead Camshaft         Auto  Black    26000  06457-3834  \\\n",
       "1  DoubleÃ‚Â Overhead Camshaft         Auto  Black    19000  60504-7114   \n",
       "2            Overhead Camshaft       Manual    Red    31500  38701-8047   \n",
       "\n",
       "  body_style    phone dealer_region  car_id  \n",
       "0        SUV  8264678    Middletown       1  \n",
       "1        SUV  6848189        Aurora       2  \n",
       "2  Passenger  7298798    Greenville       3  "
      ]
     },
     "execution_count": 412,
     "metadata": {},
     "output_type": "execute_result"
    }
   ],
   "source": [
    "df1.head(3)"
   ]
  },
  {
   "cell_type": "code",
   "execution_count": 413,
   "id": "cf6bd727-9f68-4cad-8028-fc4ad99781d8",
   "metadata": {},
   "outputs": [
    {
     "data": {
      "text/plain": [
       "(23906, 16)"
      ]
     },
     "execution_count": 413,
     "metadata": {},
     "output_type": "execute_result"
    }
   ],
   "source": [
    "df1.shape"
   ]
  },
  {
   "cell_type": "code",
   "execution_count": 414,
   "id": "2560cc1d-2abb-4503-9881-ca2e21960dca",
   "metadata": {},
   "outputs": [],
   "source": [
    "df2 = pd.merge(df1, customer_dim, on = list(customer_dim.columns[1:]), how='left')"
   ]
  },
  {
   "cell_type": "code",
   "execution_count": 415,
   "id": "83f967ec-5f21-4bbe-937d-1ca4df45585c",
   "metadata": {},
   "outputs": [
    {
     "data": {
      "text/plain": [
       "(23906, 17)"
      ]
     },
     "execution_count": 415,
     "metadata": {},
     "output_type": "execute_result"
    }
   ],
   "source": [
    "df2.shape"
   ]
  },
  {
   "cell_type": "code",
   "execution_count": 416,
   "id": "81fbb71b-a199-47a0-a6fb-2f6c2afd6c90",
   "metadata": {},
   "outputs": [],
   "source": [
    "df3 = pd.merge(df2, dealer_dim, on=list(dealer_dim.columns[1:]), how = 'left')"
   ]
  },
  {
   "cell_type": "code",
   "execution_count": 417,
   "id": "4a7d0960-0003-4a4a-9f4d-1b6f8a813223",
   "metadata": {},
   "outputs": [
    {
     "data": {
      "text/plain": [
       "(23906, 18)"
      ]
     },
     "execution_count": 417,
     "metadata": {},
     "output_type": "execute_result"
    }
   ],
   "source": [
    "df3.shape"
   ]
  },
  {
   "cell_type": "code",
   "execution_count": 418,
   "id": "450fa30a-d7ec-4dd4-86fb-b9d0879efcd4",
   "metadata": {},
   "outputs": [],
   "source": [
    "df4 = pd.merge(df3, date_dim, on='date', how='left')"
   ]
  },
  {
   "cell_type": "code",
   "execution_count": 419,
   "id": "6d0b5d14-efd2-4706-b3ae-e2c6a46e8150",
   "metadata": {},
   "outputs": [
    {
     "data": {
      "text/plain": [
       "(23906, 19)"
      ]
     },
     "execution_count": 419,
     "metadata": {},
     "output_type": "execute_result"
    }
   ],
   "source": [
    "df4.shape"
   ]
  },
  {
   "cell_type": "code",
   "execution_count": 420,
   "id": "b3c28283-9ba6-444c-a39b-3bd2fe3120cc",
   "metadata": {},
   "outputs": [
    {
     "data": {
      "text/html": [
       "<div>\n",
       "<style scoped>\n",
       "    .dataframe tbody tr th:only-of-type {\n",
       "        vertical-align: middle;\n",
       "    }\n",
       "\n",
       "    .dataframe tbody tr th {\n",
       "        vertical-align: top;\n",
       "    }\n",
       "\n",
       "    .dataframe thead th {\n",
       "        text-align: right;\n",
       "    }\n",
       "</style>\n",
       "<table border=\"1\" class=\"dataframe\">\n",
       "  <thead>\n",
       "    <tr style=\"text-align: right;\">\n",
       "      <th></th>\n",
       "      <th>date</th>\n",
       "      <th>customer_name</th>\n",
       "      <th>gender</th>\n",
       "      <th>annual_income</th>\n",
       "      <th>dealer_name</th>\n",
       "      <th>company</th>\n",
       "      <th>model</th>\n",
       "      <th>engine</th>\n",
       "      <th>transmission</th>\n",
       "      <th>color</th>\n",
       "      <th>price($)</th>\n",
       "      <th>dealer_no</th>\n",
       "      <th>body_style</th>\n",
       "      <th>phone</th>\n",
       "      <th>dealer_region</th>\n",
       "      <th>car_id</th>\n",
       "      <th>customer_id</th>\n",
       "      <th>dealer_id</th>\n",
       "      <th>date_id</th>\n",
       "    </tr>\n",
       "  </thead>\n",
       "  <tbody>\n",
       "    <tr>\n",
       "      <th>0</th>\n",
       "      <td>2022-01-02</td>\n",
       "      <td>Geraldine</td>\n",
       "      <td>Male</td>\n",
       "      <td>13500</td>\n",
       "      <td>Buddy Storbeck's Diesel Service Inc</td>\n",
       "      <td>Ford</td>\n",
       "      <td>Expedition</td>\n",
       "      <td>DoubleÃ‚Â Overhead Camshaft</td>\n",
       "      <td>Auto</td>\n",
       "      <td>Black</td>\n",
       "      <td>26000</td>\n",
       "      <td>06457-3834</td>\n",
       "      <td>SUV</td>\n",
       "      <td>8264678</td>\n",
       "      <td>Middletown</td>\n",
       "      <td>1</td>\n",
       "      <td>1</td>\n",
       "      <td>1</td>\n",
       "      <td>72959</td>\n",
       "    </tr>\n",
       "    <tr>\n",
       "      <th>1</th>\n",
       "      <td>2022-01-02</td>\n",
       "      <td>Gia</td>\n",
       "      <td>Male</td>\n",
       "      <td>1480000</td>\n",
       "      <td>C &amp; M Motors Inc</td>\n",
       "      <td>Dodge</td>\n",
       "      <td>Durango</td>\n",
       "      <td>DoubleÃ‚Â Overhead Camshaft</td>\n",
       "      <td>Auto</td>\n",
       "      <td>Black</td>\n",
       "      <td>19000</td>\n",
       "      <td>60504-7114</td>\n",
       "      <td>SUV</td>\n",
       "      <td>6848189</td>\n",
       "      <td>Aurora</td>\n",
       "      <td>2</td>\n",
       "      <td>2</td>\n",
       "      <td>2</td>\n",
       "      <td>72959</td>\n",
       "    </tr>\n",
       "    <tr>\n",
       "      <th>2</th>\n",
       "      <td>2022-01-02</td>\n",
       "      <td>Gianna</td>\n",
       "      <td>Male</td>\n",
       "      <td>1035000</td>\n",
       "      <td>Capitol KIA</td>\n",
       "      <td>Cadillac</td>\n",
       "      <td>Eldorado</td>\n",
       "      <td>Overhead Camshaft</td>\n",
       "      <td>Manual</td>\n",
       "      <td>Red</td>\n",
       "      <td>31500</td>\n",
       "      <td>38701-8047</td>\n",
       "      <td>Passenger</td>\n",
       "      <td>7298798</td>\n",
       "      <td>Greenville</td>\n",
       "      <td>3</td>\n",
       "      <td>3</td>\n",
       "      <td>3</td>\n",
       "      <td>72959</td>\n",
       "    </tr>\n",
       "  </tbody>\n",
       "</table>\n",
       "</div>"
      ],
      "text/plain": [
       "        date customer_name gender annual_income   \n",
       "0 2022-01-02     Geraldine   Male         13500  \\\n",
       "1 2022-01-02           Gia   Male       1480000   \n",
       "2 2022-01-02        Gianna   Male       1035000   \n",
       "\n",
       "                           dealer_name   company       model   \n",
       "0  Buddy Storbeck's Diesel Service Inc      Ford  Expedition  \\\n",
       "1                     C & M Motors Inc     Dodge     Durango   \n",
       "2                          Capitol KIA  Cadillac    Eldorado   \n",
       "\n",
       "                        engine transmission  color price($)   dealer_no   \n",
       "0  DoubleÃ‚Â Overhead Camshaft         Auto  Black    26000  06457-3834  \\\n",
       "1  DoubleÃ‚Â Overhead Camshaft         Auto  Black    19000  60504-7114   \n",
       "2            Overhead Camshaft       Manual    Red    31500  38701-8047   \n",
       "\n",
       "  body_style    phone dealer_region  car_id  customer_id  dealer_id  date_id  \n",
       "0        SUV  8264678    Middletown       1            1          1    72959  \n",
       "1        SUV  6848189        Aurora       2            2          2    72959  \n",
       "2  Passenger  7298798    Greenville       3            3          3    72959  "
      ]
     },
     "execution_count": 420,
     "metadata": {},
     "output_type": "execute_result"
    }
   ],
   "source": [
    "df4.head(3)"
   ]
  },
  {
   "cell_type": "code",
   "execution_count": 421,
   "id": "b15703c0-c2bb-4513-af9f-16db30b061fc",
   "metadata": {},
   "outputs": [
    {
     "name": "stdout",
     "output_type": "stream",
     "text": [
      "<class 'pandas.core.frame.DataFrame'>\n",
      "RangeIndex: 23906 entries, 0 to 23905\n",
      "Data columns (total 19 columns):\n",
      " #   Column         Non-Null Count  Dtype         \n",
      "---  ------         --------------  -----         \n",
      " 0   date           23906 non-null  datetime64[ns]\n",
      " 1   customer_name  23906 non-null  object        \n",
      " 2   gender         23906 non-null  object        \n",
      " 3   annual_income  23906 non-null  object        \n",
      " 4   dealer_name    23906 non-null  object        \n",
      " 5   company        23906 non-null  object        \n",
      " 6   model          23906 non-null  object        \n",
      " 7   engine         23906 non-null  object        \n",
      " 8   transmission   23906 non-null  object        \n",
      " 9   color          23906 non-null  object        \n",
      " 10  price($)       23906 non-null  object        \n",
      " 11  dealer_no      23906 non-null  object        \n",
      " 12  body_style     23906 non-null  object        \n",
      " 13  phone          23906 non-null  object        \n",
      " 14  dealer_region  23906 non-null  object        \n",
      " 15  car_id         23906 non-null  int64         \n",
      " 16  customer_id    23906 non-null  int64         \n",
      " 17  dealer_id      23906 non-null  int64         \n",
      " 18  date_id        23906 non-null  int64         \n",
      "dtypes: datetime64[ns](1), int64(4), object(14)\n",
      "memory usage: 3.5+ MB\n"
     ]
    }
   ],
   "source": [
    "df4.info()"
   ]
  },
  {
   "cell_type": "code",
   "execution_count": 422,
   "id": "661e9906-e3fe-40ee-b0f9-2de75896d3a4",
   "metadata": {},
   "outputs": [],
   "source": [
    "df4['price($)'] = df4['price($)'].astype(int)"
   ]
  },
  {
   "cell_type": "markdown",
   "id": "de2749b6-f914-4cfc-ad00-322a1c84f1e8",
   "metadata": {},
   "source": [
    "******************************************************"
   ]
  },
  {
   "cell_type": "code",
   "execution_count": 423,
   "id": "200f1458-c7be-4a73-b302-2fb5d2fadfc1",
   "metadata": {},
   "outputs": [],
   "source": [
    "def connect():\n",
    "    conn = psycopg2.connect(\n",
    "        dbname=\"datapiece3\",\n",
    "        user=\"postgres\",\n",
    "        password=\"mdkn\",\n",
    "        host=\"localhost\",\n",
    "        port=\"5432\"\n",
    "    )\n",
    "    return conn\n",
    "\n",
    "\n",
    "\n",
    "def load_sles_fact(conn, data):\n",
    "    cursor = conn.cursor()\n",
    "    try:\n",
    "        for index, row in data.iterrows():\n",
    "            cursor.execute(\"INSERT INTO sales_fact (date_id,  customer_id, dealer_id, car_id, price) VALUES (%s, %s, %s, %s, %s)\", \n",
    "                           (row['date_id'], row['customer_id'], row['dealer_id'], row['car_id'], row['price($)']))\n",
    "        conn.commit()\n",
    "        print(\"Data loaded into sales_fact table successfully!\")\n",
    "    except (Exception, psycopg2.DatabaseError) as error:\n",
    "        print(\"Error: %s\" % error)\n",
    "        conn.rollback()\n",
    "    finally:\n",
    "        cursor.close()\n"
   ]
  },
  {
   "cell_type": "code",
   "execution_count": 424,
   "id": "7a20d60e-e8d1-4912-99dd-4dbdef0eabf2",
   "metadata": {},
   "outputs": [],
   "source": [
    "conn = connect()"
   ]
  },
  {
   "cell_type": "code",
   "execution_count": 425,
   "id": "abfbf183-decf-4464-bed9-21ce15e9f3a8",
   "metadata": {},
   "outputs": [
    {
     "name": "stdout",
     "output_type": "stream",
     "text": [
      "Data loaded into Dealer_Dim table successfully!\n"
     ]
    }
   ],
   "source": [
    "load_sles_fact(conn, df4)\n",
    "conn.close()"
   ]
  },
  {
   "cell_type": "code",
   "execution_count": null,
   "id": "f8b9fb65-d0a5-491a-a644-60f62713a705",
   "metadata": {},
   "outputs": [],
   "source": []
  },
  {
   "cell_type": "code",
   "execution_count": null,
   "id": "24587068-1b05-44b5-a001-416fe4873d03",
   "metadata": {},
   "outputs": [],
   "source": []
  }
 ],
 "metadata": {
  "kernelspec": {
   "display_name": "Python 3 (ipykernel)",
   "language": "python",
   "name": "python3"
  },
  "language_info": {
   "codemirror_mode": {
    "name": "ipython",
    "version": 3
   },
   "file_extension": ".py",
   "mimetype": "text/x-python",
   "name": "python",
   "nbconvert_exporter": "python",
   "pygments_lexer": "ipython3",
   "version": "3.11.3"
  }
 },
 "nbformat": 4,
 "nbformat_minor": 5
}
